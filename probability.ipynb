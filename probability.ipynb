{
 "cells": [
  {
   "cell_type": "code",
   "execution_count": 1,
   "id": "a0cb7de4-f61c-4311-83ee-5738b5b58a21",
   "metadata": {},
   "outputs": [
    {
     "name": "stdout",
     "output_type": "stream",
     "text": [
      "Probability of having the disease given a positive test result: 0.3333\n"
     ]
    }
   ],
   "source": [
    "# Given probabilities\n",
    "P_D = 0.01         # Probability of having the disease\n",
    "P_Pos_D = 0.99     # Probability of testing positive given the disease (sensitivity)\n",
    "P_Neg_Dc = 0.98    # Probability of testing negative given no disease (specificity)\n",
    "P_Pos_Dc = 1 - P_Neg_Dc  # Probability of testing positive given no disease\n",
    "\n",
    "# Total probability of testing positive\n",
    "P_Pos = P_Pos_D * P_D + P_Pos_Dc * (1 - P_D)\n",
    "\n",
    "# Applying Bayes' Theorem\n",
    "P_D_Pos = (P_Pos_D * P_D) / P_Pos\n",
    "print(f\"Probability of having the disease given a positive test result: {P_D_Pos:.4f}\")\n"
   ]
  },
  {
   "cell_type": "code",
   "execution_count": 2,
   "id": "67edf942-f8af-410d-af95-a881f2514939",
   "metadata": {},
   "outputs": [
    {
     "name": "stdout",
     "output_type": "stream",
     "text": [
      "Eigenvalues: [5. 2.]\n",
      "Eigenvectors:\n",
      " [[ 0.70710678 -0.4472136 ]\n",
      " [ 0.70710678  0.89442719]]\n"
     ]
    }
   ],
   "source": [
    "import numpy as np\n",
    "\n",
    "# Given matrix\n",
    "A = np.array([[4, 1], [2, 3]])\n",
    "\n",
    "# Compute eigenvalues and eigenvectors\n",
    "eigenvalues, eigenvectors = np.linalg.eig(A)\n",
    "print(\"Eigenvalues:\", eigenvalues)\n",
    "print(\"Eigenvectors:\\n\", eigenvectors)\n"
   ]
  },
  {
   "cell_type": "code",
   "execution_count": 3,
   "id": "20dbbd55-3277-495a-9545-f1e12bd83092",
   "metadata": {},
   "outputs": [
    {
     "name": "stdout",
     "output_type": "stream",
     "text": [
      "Determinant of B: 0.9999999999999987\n",
      "Inverse of B:\n",
      " [[-24.  18.   5.]\n",
      " [ 20. -15.  -4.]\n",
      " [ -5.   4.   1.]]\n"
     ]
    }
   ],
   "source": [
    "import numpy as np\n",
    "\n",
    "# Given matrix\n",
    "B = np.array([[1, 2, 3], [0, 1, 4], [5, 6, 0]])\n",
    "\n",
    "# Calculate determinant\n",
    "det_B = np.linalg.det(B)\n",
    "print(\"Determinant of B:\", det_B)\n",
    "\n",
    "# Calculate inverse if determinant is non-zero\n",
    "if det_B != 0:\n",
    "    inv_B = np.linalg.inv(B)\n",
    "    print(\"Inverse of B:\\n\", inv_B)\n",
    "else:\n",
    "    print(\"Matrix B is singular and does not have an inverse.\")\n"
   ]
  },
  {
   "cell_type": "code",
   "execution_count": 4,
   "id": "a1d2c4d3-26c1-449f-9bd5-e7ffa893f9d0",
   "metadata": {},
   "outputs": [
    {
     "name": "stdout",
     "output_type": "stream",
     "text": [
      "Probability P(X <= 1.96) for N(0, 1^2): 0.9750\n",
      "Probability P(-1.96 <= X <= 1.96) for N(0, 1^2): 0.9500\n"
     ]
    }
   ],
   "source": [
    "import scipy.stats as stats\n",
    "\n",
    "# Parameters for the normal distribution\n",
    "mu = 0     # mean\n",
    "sigma = 1  # standard deviation\n",
    "\n",
    "# Calculate probability P(X <= x) for x = 1.96\n",
    "x = 1.96\n",
    "prob = stats.norm.cdf(x, mu, sigma)\n",
    "print(f\"Probability P(X <= {x}) for N({mu}, {sigma}^2): {prob:.4f}\")\n",
    "\n",
    "# Calculate the probability P(a <= X <= b)\n",
    "a = -1.96\n",
    "b = 1.96\n",
    "prob_ab = stats.norm.cdf(b, mu, sigma) - stats.norm.cdf(a, mu, sigma)\n",
    "print(f\"Probability P({a} <= X <= {b}) for N({mu}, {sigma}^2): {prob_ab:.4f}\")\n"
   ]
  },
  {
   "cell_type": "code",
   "execution_count": null,
   "id": "b48cfb24-8849-4b87-ae09-a6682abee3d0",
   "metadata": {},
   "outputs": [],
   "source": []
  }
 ],
 "metadata": {
  "kernelspec": {
   "display_name": "Python 3 (ipykernel)",
   "language": "python",
   "name": "python3"
  },
  "language_info": {
   "codemirror_mode": {
    "name": "ipython",
    "version": 3
   },
   "file_extension": ".py",
   "mimetype": "text/x-python",
   "name": "python",
   "nbconvert_exporter": "python",
   "pygments_lexer": "ipython3",
   "version": "3.11.7"
  }
 },
 "nbformat": 4,
 "nbformat_minor": 5
}
